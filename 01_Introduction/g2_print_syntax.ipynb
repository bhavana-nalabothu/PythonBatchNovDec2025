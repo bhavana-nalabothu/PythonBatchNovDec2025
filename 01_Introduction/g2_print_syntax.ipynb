{
 "cells": [
  {
   "cell_type": "code",
   "execution_count": 1,
   "id": "0b8a6d3b",
   "metadata": {},
   "outputs": [
    {
     "name": "stdout",
     "output_type": "stream",
     "text": [
      "1;2;3;4;5\ta-b-c-d\n"
     ]
    }
   ],
   "source": [
    "print(1,2,3,4,5, sep=\";\",end=\"\\t\")\n",
    "print(\"a\",\"b\",\"c\",\"d\",sep=\"-\")"
   ]
  },
  {
   "cell_type": "code",
   "execution_count": 3,
   "id": "87693932",
   "metadata": {},
   "outputs": [
    {
     "name": "stdout",
     "output_type": "stream",
     "text": [
      "Hellworld\n",
      "mastarugaru\n"
     ]
    }
   ],
   "source": [
    "print(\"Hello\\bworld\")\n",
    "print(\"Mastaru\\rmastarugaru\")"
   ]
  },
  {
   "cell_type": "code",
   "execution_count": null,
   "id": "da5d2bf2",
   "metadata": {},
   "outputs": [
    {
     "name": "stdout",
     "output_type": "stream",
     "text": [
      "₉\n"
     ]
    }
   ],
   "source": [
    "# \\u unicode character\n",
    "print(\"\\u2089\")\n",
    "# \\x hexadecimal characterclear\n"
   ]
  },
  {
   "cell_type": "markdown",
   "id": "ec91edf0",
   "metadata": {},
   "source": [
    "# programming language"
   ]
  }
 ],
 "metadata": {
  "kernelspec": {
   "display_name": "Python 3",
   "language": "python",
   "name": "python3"
  },
  "language_info": {
   "codemirror_mode": {
    "name": "ipython",
    "version": 3
   },
   "file_extension": ".py",
   "mimetype": "text/x-python",
   "name": "python",
   "nbconvert_exporter": "python",
   "pygments_lexer": "ipython3",
   "version": "3.12.1"
  }
 },
 "nbformat": 4,
 "nbformat_minor": 5
}
